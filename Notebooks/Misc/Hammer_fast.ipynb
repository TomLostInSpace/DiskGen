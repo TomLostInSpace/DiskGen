{
 "cells": [
  {
   "cell_type": "markdown",
   "id": "fc4ba60a",
   "metadata": {},
   "source": [
    "# Testing emcee for fitting parameters"
   ]
  },
  {
   "cell_type": "code",
   "execution_count": 21,
   "id": "bcfeb1f7",
   "metadata": {},
   "outputs": [],
   "source": [
    "import numpy as np\n",
    "from scipy.interpolate import griddata\n",
    "import emcee"
   ]
  },
  {
   "cell_type": "markdown",
   "id": "b815cca4",
   "metadata": {},
   "source": [
    "### Simulation Profile"
   ]
  },
  {
   "cell_type": "code",
   "execution_count": 22,
   "id": "4959299c",
   "metadata": {},
   "outputs": [],
   "source": [
    "# Select image to analyze\n",
    "# i = 7, 9, 10, 29, 30 are interesting ones\n",
    "i = 31"
   ]
  },
  {
   "cell_type": "code",
   "execution_count": 23,
   "id": "9b1e3dee",
   "metadata": {},
   "outputs": [],
   "source": [
    "img = (np.load(\"../profiles/dens_test.npy\"))[i]\n",
    "ny, nx = img.shape\n",
    "\n",
    "# Griglia cartesiana\n",
    "x = np.linspace(-3, 3, nx)\n",
    "y = np.linspace(-3, 3, ny)\n",
    "xx, yy = np.meshgrid(x, y)\n",
    "\n",
    "# Griglia polare\n",
    "r_i = np.linspace(0.1, 3, 300)\n",
    "theta_i = np.linspace(-np.pi, np.pi, 360)\n",
    "rr, tt = np.meshgrid(r_i, theta_i)\n",
    "\n",
    "# Converti griglia polare in x, y\n",
    "xi = rr * np.cos(tt)\n",
    "yi = rr * np.sin(tt)\n",
    "\n",
    "# Prendo i valori dell'immagine\n",
    "points = np.vstack((xx.flatten(), yy.flatten())).T\n",
    "values = img.flatten()\n",
    "\n",
    "# Interpoloazione dell'immagin su una griglia polare\n",
    "grid_intensity = griddata(points, values, (xi, yi), fill_value=0)\n",
    "\n",
    "# Per il profilo radiale, prendo la media lungo θ\n",
    "simulation_profile = np.mean(grid_intensity, axis=0)\n",
    "simulation_error = np.std(grid_intensity, axis=0)\n",
    "simulation_error[simulation_error < 1e-8] = 1e-8"
   ]
  },
  {
   "cell_type": "markdown",
   "id": "33751007",
   "metadata": {},
   "source": [
    "### Synthetic Profile"
   ]
  },
  {
   "cell_type": "code",
   "execution_count": 24,
   "id": "4da64a47",
   "metadata": {},
   "outputs": [
    {
     "name": "stderr",
     "output_type": "stream",
     "text": [
      "100%|██████████| 10000/10000 [00:13<00:00, 762.36it/s]\n"
     ]
    }
   ],
   "source": [
    "# Emcee\n",
    "r = np.linspace(0.1, 3, 300)\n",
    "\n",
    "\n",
    "def model(r, I0, gamma, r_g, sigma, f):\n",
    "    c = 0.3\n",
    "    R_cutL = 0.4  # Fixed\n",
    "    R_cutR = 3.0  # Fixed\n",
    "\n",
    "    r_sinc = c * (np.pi * ((r - r_g) / sigma))**2\n",
    "\n",
    "    powerlaw = I0 * ((r / r_g)**(-gamma))\n",
    "    sinc = np.sin(r_sinc) / r_sinc\n",
    "    gauss = np.exp((-(r - r_g)**4) / (2 * sigma**4))\n",
    "    L_cut_factor = (r >= R_cutL).astype(float)\n",
    "    R_cut_factor = (r <= R_cutR).astype(float)\n",
    "\n",
    "    gap_factor = (1 - f * (sinc * gauss))\n",
    "\n",
    "    return powerlaw * gap_factor * L_cut_factor * R_cut_factor\n",
    "\n",
    "\n",
    "def log_prior(parameters):\n",
    "    I0, gamma, r_g, sigma, f = parameters\n",
    "    if 0. < I0 < 1. and 0. < gamma < 1. and 0.9 < r_g < 1.1 and 0.01 < sigma < 0.5 and 0.0 < f < 1.0:\n",
    "        return 0.0\n",
    "    return -np.inf\n",
    "\n",
    "\n",
    "def log_likelihood(parameters, r, data, error):\n",
    "    model_profile = model(r, *parameters)\n",
    "    return - 0.5 * np.sum(((data - model_profile) / error)**2)\n",
    "\n",
    "\n",
    "def log_probability(parameters, r, data, error):\n",
    "    lp = log_prior(parameters)\n",
    "    if not np.isfinite(lp):\n",
    "        return -np.inf\n",
    "    return lp + log_likelihood(parameters, r, data, error)\n",
    "\n",
    "\n",
    "def compute_fit_score(r, data, error, theta_best):\n",
    "    I_model = model(r, *theta_best)\n",
    "    residuals = (data - I_model) / error\n",
    "    chi2_red = np.mean(residuals**2)\n",
    "    score = 1 / (1 + chi2_red)\n",
    "    return score\n",
    "\n",
    "\n",
    "# Setup for emcee\n",
    "initial = np.array([1.0, 1.0, 1.0, 0.1, 0.5])\n",
    "ndim = len(initial)\n",
    "nwalkers = 20\n",
    "initial_position = initial + 1e-3 * np.random.randn(nwalkers, ndim)\n",
    "\n",
    "sampler = emcee.EnsembleSampler(nwalkers, ndim, log_probability, args=(r, simulation_profile, simulation_error))\n",
    "sampler.run_mcmc(initial_position, 10000, progress=True)\n",
    "flat_samples = sampler.get_chain(discard=1000, thin=20, flat=True)\n",
    "\n",
    "theta_best = np.median(sampler.get_chain(discard=1000, flat=True), axis=0)\n",
    "\n",
    "# Calcolo dello score\n",
    "score = compute_fit_score(r, simulation_profile, simulation_error, theta_best)\n",
    "\n",
    "# Best parameters and model\n",
    "best_params = np.median(flat_samples, axis=0)\n",
    "best_model = model(r_i, *best_params)\n"
   ]
  },
  {
   "cell_type": "code",
   "execution_count": 25,
   "id": "427111bd",
   "metadata": {},
   "outputs": [
    {
     "name": "stdout",
     "output_type": "stream",
     "text": [
      "Fit score: 0.113\n",
      "Best parameters:\n",
      "I0: 0.0007\n",
      "gamma: 0.3002\n",
      "r_g: 0.9703\n",
      "sigma: 0.4991\n",
      "f: 0.9998\n"
     ]
    }
   ],
   "source": [
    "# Score calculation\n",
    "score = compute_fit_score(r, simulation_profile, simulation_error, theta_best)\n",
    "print(f\"Fit score: {score:.3f}\")\n",
    "print(\"Best parameters:\")\n",
    "for label, value in zip([\"I0\", \"gamma\", \"r_g\", \"sigma\", \"f\"], best_params):\n",
    "    print(f\"{label}: {value:.4f}\")"
   ]
  }
 ],
 "metadata": {
  "kernelspec": {
   "display_name": ".venv (3.13.5)",
   "language": "python",
   "name": "python3"
  },
  "language_info": {
   "codemirror_mode": {
    "name": "ipython",
    "version": 3
   },
   "file_extension": ".py",
   "mimetype": "text/x-python",
   "name": "python",
   "nbconvert_exporter": "python",
   "pygments_lexer": "ipython3",
   "version": "3.13.5"
  }
 },
 "nbformat": 4,
 "nbformat_minor": 5
}
