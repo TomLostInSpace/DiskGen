{
 "cells": [
  {
   "cell_type": "markdown",
   "id": "c89e21fd",
   "metadata": {},
   "source": [
    "# Checking best models using score"
   ]
  },
  {
   "cell_type": "code",
   "execution_count": 1,
   "id": "6fc3960a",
   "metadata": {},
   "outputs": [],
   "source": [
    "import numpy as np\n",
    "from scipy.interpolate import griddata\n",
    "import matplotlib.pyplot as plt\n",
    "import emcee"
   ]
  },
  {
   "cell_type": "code",
   "execution_count": 2,
   "id": "2bb8cff0",
   "metadata": {},
   "outputs": [
    {
     "name": "stdout",
     "output_type": "stream",
     "text": [
      "(233, 256, 256)\n"
     ]
    }
   ],
   "source": [
    "# Load the intensity profile data\n",
    "intensity_tot = np.load(\"../profiles/dens_test.npy\")\n",
    "print(intensity_tot.shape)"
   ]
  },
  {
   "cell_type": "code",
   "execution_count": 3,
   "id": "afb74e19",
   "metadata": {},
   "outputs": [],
   "source": [
    "# Range 0 to 233\n",
    "start = 0\n",
    "end = 70"
   ]
  },
  {
   "cell_type": "code",
   "execution_count": 4,
   "id": "ce516309",
   "metadata": {},
   "outputs": [],
   "source": [
    "# Functions\n",
    "def model_powerlaw(r, I0, gamma, r_g, sigma, f):\n",
    "    R_cutL = 0.4\n",
    "    R_cutR = 3.0\n",
    "\n",
    "    powerlaw = I0 * ((r / r_g)**(-gamma))\n",
    "    L_cut_factor = (r >= R_cutL).astype(float)\n",
    "    R_cut_factor = (r <= R_cutR).astype(float)\n",
    "\n",
    "    return powerlaw * L_cut_factor * R_cut_factor\n",
    "\n",
    "\n",
    "def model_no_sinc(r, I0, gamma, r_g, sigma, f):\n",
    "    R_cutL = 0.4\n",
    "    R_cutR = 3.0\n",
    "    powerlaw = I0 * ((r / r_g)**(-gamma))\n",
    "    gauss = np.exp((-(r - r_g)**4) / (2 * sigma**4))\n",
    "    L_cut_factor = (r >= R_cutL).astype(float)\n",
    "    R_cut_factor = (r <= R_cutR).astype(float)\n",
    "\n",
    "    gap_factor = (1 - f * (gauss))\n",
    "\n",
    "    return powerlaw * gap_factor * L_cut_factor * R_cut_factor\n",
    "\n",
    "\n",
    "def model_full(r, I0, gamma, r_g, sigma, f):\n",
    "    c = 0.3\n",
    "    R_cutL = 0.4\n",
    "    R_cutR = 3.0\n",
    "\n",
    "    r_sinc = c * (np.pi * ((r - r_g) / sigma))**2\n",
    "\n",
    "    powerlaw = I0 * ((r / r_g)**(-gamma))\n",
    "    sinc = np.sin(r_sinc) / r_sinc\n",
    "    gauss = np.exp((-(r - r_g)**4) / (2 * sigma**4))\n",
    "    L_cut_factor = (r >= R_cutL).astype(float)\n",
    "    R_cut_factor = (r <= R_cutR).astype(float)\n",
    "\n",
    "    gap_factor = (1 - f * (sinc * gauss))\n",
    "\n",
    "    return powerlaw * gap_factor * L_cut_factor * R_cut_factor\n",
    "\n",
    "\n",
    "def log_prior(parameters):\n",
    "    I0, gamma, r_g, sigma, f = parameters\n",
    "    if 0.1 < I0 < 1.5 and 0.1 < gamma < 1.2 and 0.8 < r_g < 1.2 and 0.01 < sigma < 0.8 and 0.1 < f < 1.0:\n",
    "        return 0.0\n",
    "    return -np.inf\n",
    "\n",
    "\n",
    "def log_likelihood(parameters, r, data, error, model_func):\n",
    "    model_profile = model_func(r, *parameters)\n",
    "    return -0.5 * np.sum(((data - model_profile) / error)**2)\n",
    "\n",
    "\n",
    "def log_probability(parameters, r, data, error, model_func):\n",
    "    lp = log_prior(parameters)\n",
    "    if not np.isfinite(lp):\n",
    "        return -np.inf\n",
    "    return lp + log_likelihood(parameters, r, data, error, model_func)\n",
    "\n",
    "\n",
    "def compute_fit_score(r, data, error, theta_best, model_func):\n",
    "    I_model = model_func(r, *theta_best)\n",
    "    residuals = (data - I_model) / error\n",
    "    chi2_red = np.mean(residuals**2)\n",
    "    score = 1 / (1 + chi2_red)\n",
    "    return score\n"
   ]
  },
  {
   "cell_type": "code",
   "execution_count": 5,
   "id": "5559756d",
   "metadata": {},
   "outputs": [],
   "source": [
    "# Setup\n",
    "r = np.linspace(0.1, 3, 300)\n",
    "models = {\n",
    "    \"powerlaw\": model_powerlaw,\n",
    "    \"no_sinc\": model_no_sinc,\n",
    "    \"full\": model_full,\n",
    "}\n",
    "model_scores = {model_name: [] for model_name in models}\n",
    "steps = 10000\n",
    "steps_discarded = 2500\n",
    "initial = np.array([1.0, 1.0, 1.0, 0.1, 0.5])\n",
    "ndim = len(initial)\n",
    "nwalkers = 10\n",
    "initial_position = initial + 1e-3 * np.random.randn(nwalkers, ndim)"
   ]
  },
  {
   "cell_type": "code",
   "execution_count": 6,
   "id": "db21eaba",
   "metadata": {},
   "outputs": [
    {
     "name": "stdout",
     "output_type": "stream",
     "text": [
      "Processing profile 1 of 70\n"
     ]
    },
    {
     "name": "stderr",
     "output_type": "stream",
     "text": [
      "100%|██████████| 10000/10000 [00:05<00:00, 1922.16it/s]\n",
      "100%|██████████| 10000/10000 [00:06<00:00, 1473.74it/s]\n",
      "100%|██████████| 10000/10000 [00:07<00:00, 1265.84it/s]\n"
     ]
    },
    {
     "name": "stdout",
     "output_type": "stream",
     "text": [
      "Processing profile 2 of 70\n"
     ]
    },
    {
     "name": "stderr",
     "output_type": "stream",
     "text": [
      "100%|██████████| 10000/10000 [00:05<00:00, 1897.50it/s]\n",
      "100%|██████████| 10000/10000 [00:06<00:00, 1513.91it/s]\n",
      "100%|██████████| 10000/10000 [00:08<00:00, 1135.17it/s]\n"
     ]
    },
    {
     "name": "stdout",
     "output_type": "stream",
     "text": [
      "Processing profile 3 of 70\n"
     ]
    },
    {
     "name": "stderr",
     "output_type": "stream",
     "text": [
      "100%|██████████| 10000/10000 [00:05<00:00, 1891.79it/s]\n",
      "100%|██████████| 10000/10000 [00:06<00:00, 1474.00it/s]\n",
      "100%|██████████| 10000/10000 [00:07<00:00, 1370.70it/s]\n"
     ]
    },
    {
     "name": "stdout",
     "output_type": "stream",
     "text": [
      "Processing profile 4 of 70\n"
     ]
    },
    {
     "name": "stderr",
     "output_type": "stream",
     "text": [
      "100%|██████████| 10000/10000 [00:05<00:00, 1996.10it/s]\n",
      "100%|██████████| 10000/10000 [00:06<00:00, 1463.05it/s]\n",
      "100%|██████████| 10000/10000 [00:07<00:00, 1317.51it/s]\n"
     ]
    },
    {
     "name": "stdout",
     "output_type": "stream",
     "text": [
      "Processing profile 5 of 70\n"
     ]
    },
    {
     "name": "stderr",
     "output_type": "stream",
     "text": [
      "100%|██████████| 10000/10000 [00:05<00:00, 1995.92it/s]\n",
      "100%|██████████| 10000/10000 [00:06<00:00, 1444.22it/s]\n",
      "100%|██████████| 10000/10000 [00:08<00:00, 1157.46it/s]\n"
     ]
    },
    {
     "name": "stdout",
     "output_type": "stream",
     "text": [
      "Processing profile 6 of 70\n"
     ]
    },
    {
     "name": "stderr",
     "output_type": "stream",
     "text": [
      "100%|██████████| 10000/10000 [00:05<00:00, 1676.35it/s]\n",
      "100%|██████████| 10000/10000 [00:07<00:00, 1303.74it/s]\n",
      "100%|██████████| 10000/10000 [00:10<00:00, 941.14it/s]\n"
     ]
    },
    {
     "name": "stdout",
     "output_type": "stream",
     "text": [
      "Processing profile 7 of 70\n"
     ]
    },
    {
     "name": "stderr",
     "output_type": "stream",
     "text": [
      "100%|██████████| 10000/10000 [00:05<00:00, 1684.61it/s]\n",
      "100%|██████████| 10000/10000 [00:07<00:00, 1289.07it/s]\n",
      "100%|██████████| 10000/10000 [00:08<00:00, 1140.42it/s]\n"
     ]
    },
    {
     "name": "stdout",
     "output_type": "stream",
     "text": [
      "Processing profile 8 of 70\n"
     ]
    },
    {
     "name": "stderr",
     "output_type": "stream",
     "text": [
      "100%|██████████| 10000/10000 [00:06<00:00, 1534.32it/s]\n",
      "100%|██████████| 10000/10000 [00:07<00:00, 1289.62it/s]\n",
      "100%|██████████| 10000/10000 [00:09<00:00, 1093.30it/s]\n"
     ]
    },
    {
     "name": "stdout",
     "output_type": "stream",
     "text": [
      "Processing profile 9 of 70\n"
     ]
    },
    {
     "name": "stderr",
     "output_type": "stream",
     "text": [
      "100%|██████████| 10000/10000 [00:05<00:00, 1735.05it/s]\n",
      "100%|██████████| 10000/10000 [00:07<00:00, 1296.25it/s]\n",
      "100%|██████████| 10000/10000 [00:08<00:00, 1160.07it/s]\n"
     ]
    },
    {
     "name": "stdout",
     "output_type": "stream",
     "text": [
      "Processing profile 10 of 70\n"
     ]
    },
    {
     "name": "stderr",
     "output_type": "stream",
     "text": [
      "100%|██████████| 10000/10000 [00:05<00:00, 1707.03it/s]\n",
      "100%|██████████| 10000/10000 [00:08<00:00, 1179.81it/s]\n",
      "100%|██████████| 10000/10000 [00:09<00:00, 1088.80it/s]\n"
     ]
    },
    {
     "name": "stdout",
     "output_type": "stream",
     "text": [
      "Processing profile 11 of 70\n"
     ]
    },
    {
     "name": "stderr",
     "output_type": "stream",
     "text": [
      "100%|██████████| 10000/10000 [00:05<00:00, 1765.79it/s]\n",
      "100%|██████████| 10000/10000 [00:07<00:00, 1345.14it/s]\n",
      "100%|██████████| 10000/10000 [00:08<00:00, 1149.86it/s]\n"
     ]
    },
    {
     "name": "stdout",
     "output_type": "stream",
     "text": [
      "Processing profile 12 of 70\n"
     ]
    },
    {
     "name": "stderr",
     "output_type": "stream",
     "text": [
      "100%|██████████| 10000/10000 [00:05<00:00, 1712.62it/s]\n",
      "100%|██████████| 10000/10000 [00:07<00:00, 1375.66it/s]\n",
      "100%|██████████| 10000/10000 [00:09<00:00, 1107.15it/s]\n"
     ]
    },
    {
     "name": "stdout",
     "output_type": "stream",
     "text": [
      "Processing profile 13 of 70\n"
     ]
    },
    {
     "name": "stderr",
     "output_type": "stream",
     "text": [
      "100%|██████████| 10000/10000 [00:05<00:00, 1726.75it/s]\n",
      "100%|██████████| 10000/10000 [00:07<00:00, 1270.22it/s]\n",
      "100%|██████████| 10000/10000 [00:08<00:00, 1163.93it/s]\n"
     ]
    },
    {
     "name": "stdout",
     "output_type": "stream",
     "text": [
      "Processing profile 14 of 70\n"
     ]
    },
    {
     "name": "stderr",
     "output_type": "stream",
     "text": [
      "100%|██████████| 10000/10000 [00:05<00:00, 1727.04it/s]\n",
      "100%|██████████| 10000/10000 [00:07<00:00, 1326.15it/s]\n",
      "100%|██████████| 10000/10000 [00:08<00:00, 1120.34it/s]\n"
     ]
    },
    {
     "name": "stdout",
     "output_type": "stream",
     "text": [
      "Processing profile 15 of 70\n"
     ]
    },
    {
     "name": "stderr",
     "output_type": "stream",
     "text": [
      "100%|██████████| 10000/10000 [00:05<00:00, 1738.57it/s]\n",
      "100%|██████████| 10000/10000 [00:07<00:00, 1385.50it/s]\n",
      "100%|██████████| 10000/10000 [00:09<00:00, 1078.85it/s]\n"
     ]
    },
    {
     "name": "stdout",
     "output_type": "stream",
     "text": [
      "Processing profile 16 of 70\n"
     ]
    },
    {
     "name": "stderr",
     "output_type": "stream",
     "text": [
      "100%|██████████| 10000/10000 [00:05<00:00, 1826.78it/s]\n",
      "100%|██████████| 10000/10000 [00:07<00:00, 1338.02it/s]\n",
      "100%|██████████| 10000/10000 [00:08<00:00, 1182.33it/s]\n"
     ]
    },
    {
     "name": "stdout",
     "output_type": "stream",
     "text": [
      "Processing profile 17 of 70\n"
     ]
    },
    {
     "name": "stderr",
     "output_type": "stream",
     "text": [
      "100%|██████████| 10000/10000 [00:05<00:00, 1745.69it/s]\n",
      "100%|██████████| 10000/10000 [00:07<00:00, 1360.54it/s]\n",
      "100%|██████████| 10000/10000 [00:08<00:00, 1159.56it/s]\n"
     ]
    },
    {
     "name": "stdout",
     "output_type": "stream",
     "text": [
      "Processing profile 18 of 70\n"
     ]
    },
    {
     "name": "stderr",
     "output_type": "stream",
     "text": [
      "100%|██████████| 10000/10000 [00:05<00:00, 1735.51it/s]\n",
      "100%|██████████| 10000/10000 [00:07<00:00, 1360.05it/s]\n",
      "100%|██████████| 10000/10000 [00:08<00:00, 1114.66it/s]\n"
     ]
    },
    {
     "name": "stdout",
     "output_type": "stream",
     "text": [
      "Processing profile 19 of 70\n"
     ]
    },
    {
     "name": "stderr",
     "output_type": "stream",
     "text": [
      "100%|██████████| 10000/10000 [00:05<00:00, 1788.03it/s]\n",
      "100%|██████████| 10000/10000 [00:07<00:00, 1338.44it/s]\n",
      "100%|██████████| 10000/10000 [00:08<00:00, 1143.96it/s]\n"
     ]
    },
    {
     "name": "stdout",
     "output_type": "stream",
     "text": [
      "Processing profile 20 of 70\n"
     ]
    },
    {
     "name": "stderr",
     "output_type": "stream",
     "text": [
      "100%|██████████| 10000/10000 [00:06<00:00, 1617.97it/s]\n",
      "100%|██████████| 10000/10000 [00:07<00:00, 1306.52it/s]\n",
      "100%|██████████| 10000/10000 [00:09<00:00, 1056.80it/s]\n"
     ]
    },
    {
     "name": "stdout",
     "output_type": "stream",
     "text": [
      "Processing profile 21 of 70\n"
     ]
    },
    {
     "name": "stderr",
     "output_type": "stream",
     "text": [
      "100%|██████████| 10000/10000 [00:05<00:00, 1855.73it/s]\n",
      "100%|██████████| 10000/10000 [00:06<00:00, 1434.31it/s]\n",
      "100%|██████████| 10000/10000 [00:08<00:00, 1232.93it/s]\n"
     ]
    },
    {
     "name": "stdout",
     "output_type": "stream",
     "text": [
      "Processing profile 22 of 70\n"
     ]
    },
    {
     "name": "stderr",
     "output_type": "stream",
     "text": [
      "100%|██████████| 10000/10000 [00:05<00:00, 1865.79it/s]\n",
      "100%|██████████| 10000/10000 [00:06<00:00, 1487.23it/s]\n",
      "100%|██████████| 10000/10000 [00:08<00:00, 1233.76it/s]\n"
     ]
    },
    {
     "name": "stdout",
     "output_type": "stream",
     "text": [
      "Processing profile 23 of 70\n"
     ]
    },
    {
     "name": "stderr",
     "output_type": "stream",
     "text": [
      "100%|██████████| 10000/10000 [00:05<00:00, 1785.33it/s]\n",
      "100%|██████████| 10000/10000 [00:07<00:00, 1400.41it/s]\n",
      "100%|██████████| 10000/10000 [00:07<00:00, 1307.02it/s]\n"
     ]
    },
    {
     "name": "stdout",
     "output_type": "stream",
     "text": [
      "Processing profile 24 of 70\n"
     ]
    },
    {
     "name": "stderr",
     "output_type": "stream",
     "text": [
      "100%|██████████| 10000/10000 [00:05<00:00, 1842.12it/s]\n",
      "100%|██████████| 10000/10000 [00:07<00:00, 1378.64it/s]\n",
      "100%|██████████| 10000/10000 [00:07<00:00, 1284.33it/s]\n"
     ]
    },
    {
     "name": "stdout",
     "output_type": "stream",
     "text": [
      "Processing profile 25 of 70\n"
     ]
    },
    {
     "name": "stderr",
     "output_type": "stream",
     "text": [
      "100%|██████████| 10000/10000 [00:05<00:00, 1837.43it/s]\n",
      "100%|██████████| 10000/10000 [00:07<00:00, 1403.30it/s]\n",
      "100%|██████████| 10000/10000 [00:07<00:00, 1267.25it/s]\n"
     ]
    },
    {
     "name": "stdout",
     "output_type": "stream",
     "text": [
      "Processing profile 26 of 70\n"
     ]
    },
    {
     "name": "stderr",
     "output_type": "stream",
     "text": [
      "100%|██████████| 10000/10000 [00:05<00:00, 1827.73it/s]\n",
      "100%|██████████| 10000/10000 [00:07<00:00, 1415.61it/s]\n",
      "100%|██████████| 10000/10000 [00:08<00:00, 1239.61it/s]\n"
     ]
    },
    {
     "name": "stdout",
     "output_type": "stream",
     "text": [
      "Processing profile 27 of 70\n"
     ]
    },
    {
     "name": "stderr",
     "output_type": "stream",
     "text": [
      "100%|██████████| 10000/10000 [00:05<00:00, 1990.68it/s]\n",
      "100%|██████████| 10000/10000 [00:07<00:00, 1384.01it/s]\n",
      "100%|██████████| 10000/10000 [00:07<00:00, 1255.99it/s]\n"
     ]
    },
    {
     "name": "stdout",
     "output_type": "stream",
     "text": [
      "Processing profile 28 of 70\n"
     ]
    },
    {
     "name": "stderr",
     "output_type": "stream",
     "text": [
      "100%|██████████| 10000/10000 [00:05<00:00, 1845.79it/s]\n",
      "100%|██████████| 10000/10000 [00:06<00:00, 1432.75it/s]\n",
      "100%|██████████| 10000/10000 [00:07<00:00, 1252.90it/s]\n"
     ]
    },
    {
     "name": "stdout",
     "output_type": "stream",
     "text": [
      "Processing profile 29 of 70\n"
     ]
    },
    {
     "name": "stderr",
     "output_type": "stream",
     "text": [
      "100%|██████████| 10000/10000 [00:05<00:00, 1839.62it/s]\n",
      "100%|██████████| 10000/10000 [00:06<00:00, 1469.33it/s]\n",
      "100%|██████████| 10000/10000 [00:07<00:00, 1281.59it/s]\n"
     ]
    },
    {
     "name": "stdout",
     "output_type": "stream",
     "text": [
      "Processing profile 30 of 70\n"
     ]
    },
    {
     "name": "stderr",
     "output_type": "stream",
     "text": [
      "100%|██████████| 10000/10000 [00:06<00:00, 1606.70it/s]\n",
      "100%|██████████| 10000/10000 [00:07<00:00, 1371.44it/s]\n",
      "100%|██████████| 10000/10000 [00:08<00:00, 1187.87it/s]\n"
     ]
    },
    {
     "name": "stdout",
     "output_type": "stream",
     "text": [
      "Processing profile 31 of 70\n"
     ]
    },
    {
     "name": "stderr",
     "output_type": "stream",
     "text": [
      "100%|██████████| 10000/10000 [00:05<00:00, 1745.94it/s]\n",
      "100%|██████████| 10000/10000 [00:07<00:00, 1331.54it/s]\n",
      "100%|██████████| 10000/10000 [00:07<00:00, 1304.21it/s]\n"
     ]
    },
    {
     "name": "stdout",
     "output_type": "stream",
     "text": [
      "Processing profile 32 of 70\n"
     ]
    },
    {
     "name": "stderr",
     "output_type": "stream",
     "text": [
      "100%|██████████| 10000/10000 [00:05<00:00, 1722.87it/s]\n",
      "100%|██████████| 10000/10000 [00:07<00:00, 1302.13it/s]\n",
      "100%|██████████| 10000/10000 [00:08<00:00, 1118.47it/s]\n"
     ]
    },
    {
     "name": "stdout",
     "output_type": "stream",
     "text": [
      "Processing profile 33 of 70\n"
     ]
    },
    {
     "name": "stderr",
     "output_type": "stream",
     "text": [
      "100%|██████████| 10000/10000 [00:05<00:00, 1787.74it/s]\n",
      "100%|██████████| 10000/10000 [00:07<00:00, 1374.79it/s]\n",
      "100%|██████████| 10000/10000 [00:08<00:00, 1225.54it/s]\n"
     ]
    },
    {
     "name": "stdout",
     "output_type": "stream",
     "text": [
      "Processing profile 34 of 70\n"
     ]
    },
    {
     "name": "stderr",
     "output_type": "stream",
     "text": [
      "100%|██████████| 10000/10000 [00:06<00:00, 1606.51it/s]\n",
      "100%|██████████| 10000/10000 [00:07<00:00, 1390.79it/s]\n",
      "100%|██████████| 10000/10000 [00:08<00:00, 1193.76it/s]\n"
     ]
    },
    {
     "name": "stdout",
     "output_type": "stream",
     "text": [
      "Processing profile 35 of 70\n"
     ]
    },
    {
     "name": "stderr",
     "output_type": "stream",
     "text": [
      "100%|██████████| 10000/10000 [00:05<00:00, 1849.21it/s]\n",
      "100%|██████████| 10000/10000 [00:07<00:00, 1364.97it/s]\n",
      "100%|██████████| 10000/10000 [00:08<00:00, 1208.13it/s]\n"
     ]
    },
    {
     "name": "stdout",
     "output_type": "stream",
     "text": [
      "Processing profile 36 of 70\n"
     ]
    },
    {
     "name": "stderr",
     "output_type": "stream",
     "text": [
      "100%|██████████| 10000/10000 [00:05<00:00, 1745.04it/s]\n",
      "100%|██████████| 10000/10000 [00:07<00:00, 1339.67it/s]\n",
      "100%|██████████| 10000/10000 [00:08<00:00, 1224.08it/s]\n"
     ]
    },
    {
     "name": "stdout",
     "output_type": "stream",
     "text": [
      "Processing profile 37 of 70\n"
     ]
    },
    {
     "name": "stderr",
     "output_type": "stream",
     "text": [
      "100%|██████████| 10000/10000 [00:05<00:00, 1738.86it/s]\n",
      "100%|██████████| 10000/10000 [00:07<00:00, 1274.81it/s]\n",
      "100%|██████████| 10000/10000 [00:08<00:00, 1195.59it/s]\n"
     ]
    },
    {
     "name": "stdout",
     "output_type": "stream",
     "text": [
      "Processing profile 38 of 70\n"
     ]
    },
    {
     "name": "stderr",
     "output_type": "stream",
     "text": [
      "100%|██████████| 10000/10000 [00:05<00:00, 1799.75it/s]\n",
      "100%|██████████| 10000/10000 [00:07<00:00, 1379.77it/s]\n",
      "100%|██████████| 10000/10000 [00:08<00:00, 1170.04it/s]\n"
     ]
    },
    {
     "name": "stdout",
     "output_type": "stream",
     "text": [
      "Processing profile 39 of 70\n"
     ]
    },
    {
     "name": "stderr",
     "output_type": "stream",
     "text": [
      "100%|██████████| 10000/10000 [00:05<00:00, 1786.76it/s]\n",
      "100%|██████████| 10000/10000 [00:07<00:00, 1342.25it/s]\n",
      "100%|██████████| 10000/10000 [00:09<00:00, 1054.38it/s]\n"
     ]
    },
    {
     "name": "stdout",
     "output_type": "stream",
     "text": [
      "Processing profile 40 of 70\n"
     ]
    },
    {
     "name": "stderr",
     "output_type": "stream",
     "text": [
      "100%|██████████| 10000/10000 [00:05<00:00, 1780.43it/s]\n",
      "100%|██████████| 10000/10000 [00:07<00:00, 1369.02it/s]\n",
      "100%|██████████| 10000/10000 [00:08<00:00, 1215.24it/s]\n"
     ]
    },
    {
     "name": "stdout",
     "output_type": "stream",
     "text": [
      "Processing profile 41 of 70\n"
     ]
    },
    {
     "name": "stderr",
     "output_type": "stream",
     "text": [
      "100%|██████████| 10000/10000 [00:05<00:00, 1795.77it/s]\n",
      "100%|██████████| 10000/10000 [00:08<00:00, 1235.44it/s]\n",
      "100%|██████████| 10000/10000 [00:09<00:00, 1063.66it/s]\n"
     ]
    },
    {
     "name": "stdout",
     "output_type": "stream",
     "text": [
      "Processing profile 42 of 70\n"
     ]
    },
    {
     "name": "stderr",
     "output_type": "stream",
     "text": [
      "100%|██████████| 10000/10000 [00:05<00:00, 1780.98it/s]\n",
      "100%|██████████| 10000/10000 [00:07<00:00, 1360.22it/s]\n",
      "100%|██████████| 10000/10000 [00:08<00:00, 1194.68it/s]\n"
     ]
    },
    {
     "name": "stdout",
     "output_type": "stream",
     "text": [
      "Processing profile 43 of 70\n"
     ]
    },
    {
     "name": "stderr",
     "output_type": "stream",
     "text": [
      "100%|██████████| 10000/10000 [00:05<00:00, 1762.37it/s]\n",
      "100%|██████████| 10000/10000 [00:07<00:00, 1427.58it/s]\n",
      "100%|██████████| 10000/10000 [00:08<00:00, 1178.45it/s]\n"
     ]
    },
    {
     "name": "stdout",
     "output_type": "stream",
     "text": [
      "Processing profile 44 of 70\n"
     ]
    },
    {
     "name": "stderr",
     "output_type": "stream",
     "text": [
      "100%|██████████| 10000/10000 [00:06<00:00, 1612.84it/s]\n",
      "100%|██████████| 10000/10000 [00:07<00:00, 1367.96it/s]\n",
      "100%|██████████| 10000/10000 [00:07<00:00, 1419.67it/s]\n"
     ]
    },
    {
     "name": "stdout",
     "output_type": "stream",
     "text": [
      "Processing profile 45 of 70\n"
     ]
    },
    {
     "name": "stderr",
     "output_type": "stream",
     "text": [
      "100%|██████████| 10000/10000 [00:05<00:00, 1776.60it/s]\n",
      "100%|██████████| 10000/10000 [00:06<00:00, 1439.26it/s]\n",
      "100%|██████████| 10000/10000 [00:09<00:00, 1098.20it/s]\n"
     ]
    },
    {
     "name": "stdout",
     "output_type": "stream",
     "text": [
      "Processing profile 46 of 70\n"
     ]
    },
    {
     "name": "stderr",
     "output_type": "stream",
     "text": [
      "100%|██████████| 10000/10000 [00:05<00:00, 1772.23it/s]\n",
      "100%|██████████| 10000/10000 [00:07<00:00, 1371.96it/s]\n",
      "100%|██████████| 10000/10000 [00:07<00:00, 1287.33it/s]\n"
     ]
    },
    {
     "name": "stdout",
     "output_type": "stream",
     "text": [
      "Processing profile 47 of 70\n"
     ]
    },
    {
     "name": "stderr",
     "output_type": "stream",
     "text": [
      "100%|██████████| 10000/10000 [00:05<00:00, 1736.86it/s]\n",
      "100%|██████████| 10000/10000 [00:07<00:00, 1379.40it/s]\n",
      "100%|██████████| 10000/10000 [00:08<00:00, 1214.36it/s]\n"
     ]
    },
    {
     "name": "stdout",
     "output_type": "stream",
     "text": [
      "Processing profile 48 of 70\n"
     ]
    },
    {
     "name": "stderr",
     "output_type": "stream",
     "text": [
      "100%|██████████| 10000/10000 [00:05<00:00, 1790.86it/s]\n",
      "100%|██████████| 10000/10000 [00:07<00:00, 1380.58it/s]\n",
      "100%|██████████| 10000/10000 [00:08<00:00, 1184.97it/s]\n"
     ]
    },
    {
     "name": "stdout",
     "output_type": "stream",
     "text": [
      "Processing profile 49 of 70\n"
     ]
    },
    {
     "name": "stderr",
     "output_type": "stream",
     "text": [
      "100%|██████████| 10000/10000 [00:05<00:00, 1791.15it/s]\n",
      "100%|██████████| 10000/10000 [00:07<00:00, 1397.66it/s]\n",
      "100%|██████████| 10000/10000 [00:08<00:00, 1189.68it/s]\n"
     ]
    },
    {
     "name": "stdout",
     "output_type": "stream",
     "text": [
      "Processing profile 50 of 70\n"
     ]
    },
    {
     "name": "stderr",
     "output_type": "stream",
     "text": [
      "100%|██████████| 10000/10000 [00:05<00:00, 1904.56it/s]\n",
      "100%|██████████| 10000/10000 [00:06<00:00, 1431.81it/s]\n",
      "100%|██████████| 10000/10000 [00:08<00:00, 1239.63it/s]\n"
     ]
    },
    {
     "name": "stdout",
     "output_type": "stream",
     "text": [
      "Processing profile 51 of 70\n"
     ]
    },
    {
     "name": "stderr",
     "output_type": "stream",
     "text": [
      "100%|██████████| 10000/10000 [00:05<00:00, 1769.90it/s]\n",
      "100%|██████████| 10000/10000 [00:07<00:00, 1281.53it/s]\n",
      "100%|██████████| 10000/10000 [00:08<00:00, 1198.07it/s]\n"
     ]
    },
    {
     "name": "stdout",
     "output_type": "stream",
     "text": [
      "Processing profile 52 of 70\n"
     ]
    },
    {
     "name": "stderr",
     "output_type": "stream",
     "text": [
      "100%|██████████| 10000/10000 [00:05<00:00, 1795.98it/s]\n",
      "100%|██████████| 10000/10000 [00:06<00:00, 1531.33it/s]\n",
      "100%|██████████| 10000/10000 [00:07<00:00, 1275.49it/s]\n"
     ]
    },
    {
     "name": "stdout",
     "output_type": "stream",
     "text": [
      "Processing profile 53 of 70\n"
     ]
    },
    {
     "name": "stderr",
     "output_type": "stream",
     "text": [
      "100%|██████████| 10000/10000 [00:05<00:00, 1975.00it/s]\n",
      "100%|██████████| 10000/10000 [00:07<00:00, 1424.36it/s]\n",
      "100%|██████████| 10000/10000 [00:07<00:00, 1285.86it/s]\n"
     ]
    },
    {
     "name": "stdout",
     "output_type": "stream",
     "text": [
      "Processing profile 54 of 70\n"
     ]
    },
    {
     "name": "stderr",
     "output_type": "stream",
     "text": [
      "100%|██████████| 10000/10000 [00:05<00:00, 1868.81it/s]\n",
      "100%|██████████| 10000/10000 [00:06<00:00, 1466.10it/s]\n",
      "100%|██████████| 10000/10000 [00:07<00:00, 1286.37it/s]\n"
     ]
    },
    {
     "name": "stdout",
     "output_type": "stream",
     "text": [
      "Processing profile 55 of 70\n"
     ]
    },
    {
     "name": "stderr",
     "output_type": "stream",
     "text": [
      "100%|██████████| 10000/10000 [00:05<00:00, 1936.50it/s]\n",
      "100%|██████████| 10000/10000 [00:06<00:00, 1492.36it/s]\n",
      "100%|██████████| 10000/10000 [00:07<00:00, 1363.08it/s]\n"
     ]
    },
    {
     "name": "stdout",
     "output_type": "stream",
     "text": [
      "Processing profile 56 of 70\n"
     ]
    },
    {
     "name": "stderr",
     "output_type": "stream",
     "text": [
      "100%|██████████| 10000/10000 [00:05<00:00, 1897.54it/s]\n",
      "100%|██████████| 10000/10000 [00:06<00:00, 1483.18it/s]\n",
      "100%|██████████| 10000/10000 [00:07<00:00, 1300.92it/s]\n"
     ]
    },
    {
     "name": "stdout",
     "output_type": "stream",
     "text": [
      "Processing profile 57 of 70\n"
     ]
    },
    {
     "name": "stderr",
     "output_type": "stream",
     "text": [
      "100%|██████████| 10000/10000 [00:05<00:00, 1894.91it/s]\n",
      "100%|██████████| 10000/10000 [00:06<00:00, 1523.15it/s]\n",
      "100%|██████████| 10000/10000 [00:07<00:00, 1313.92it/s]\n"
     ]
    },
    {
     "name": "stdout",
     "output_type": "stream",
     "text": [
      "Processing profile 58 of 70\n"
     ]
    },
    {
     "name": "stderr",
     "output_type": "stream",
     "text": [
      "100%|██████████| 10000/10000 [00:05<00:00, 1905.78it/s]\n",
      "100%|██████████| 10000/10000 [00:06<00:00, 1511.66it/s]\n",
      "100%|██████████| 10000/10000 [00:07<00:00, 1342.76it/s]\n"
     ]
    },
    {
     "name": "stdout",
     "output_type": "stream",
     "text": [
      "Processing profile 59 of 70\n"
     ]
    },
    {
     "name": "stderr",
     "output_type": "stream",
     "text": [
      "100%|██████████| 10000/10000 [00:05<00:00, 1908.20it/s]\n",
      "100%|██████████| 10000/10000 [00:06<00:00, 1530.47it/s]\n",
      "100%|██████████| 10000/10000 [00:08<00:00, 1225.19it/s]\n"
     ]
    },
    {
     "name": "stdout",
     "output_type": "stream",
     "text": [
      "Processing profile 60 of 70\n"
     ]
    },
    {
     "name": "stderr",
     "output_type": "stream",
     "text": [
      "100%|██████████| 10000/10000 [00:05<00:00, 1937.38it/s]\n",
      "100%|██████████| 10000/10000 [00:06<00:00, 1504.39it/s]\n",
      "100%|██████████| 10000/10000 [00:07<00:00, 1250.22it/s]\n"
     ]
    },
    {
     "name": "stdout",
     "output_type": "stream",
     "text": [
      "Processing profile 61 of 70\n"
     ]
    },
    {
     "name": "stderr",
     "output_type": "stream",
     "text": [
      "100%|██████████| 10000/10000 [00:04<00:00, 2054.40it/s]\n",
      "100%|██████████| 10000/10000 [00:06<00:00, 1499.14it/s]\n",
      "100%|██████████| 10000/10000 [00:07<00:00, 1293.21it/s]\n"
     ]
    },
    {
     "name": "stdout",
     "output_type": "stream",
     "text": [
      "Processing profile 62 of 70\n"
     ]
    },
    {
     "name": "stderr",
     "output_type": "stream",
     "text": [
      "100%|██████████| 10000/10000 [00:05<00:00, 1943.62it/s]\n",
      "100%|██████████| 10000/10000 [00:06<00:00, 1490.17it/s]\n",
      "100%|██████████| 10000/10000 [00:07<00:00, 1314.98it/s]\n"
     ]
    },
    {
     "name": "stdout",
     "output_type": "stream",
     "text": [
      "Processing profile 63 of 70\n"
     ]
    },
    {
     "name": "stderr",
     "output_type": "stream",
     "text": [
      "100%|██████████| 10000/10000 [00:05<00:00, 1918.53it/s]\n",
      "100%|██████████| 10000/10000 [00:06<00:00, 1470.25it/s]\n",
      "100%|██████████| 10000/10000 [00:07<00:00, 1340.17it/s]\n"
     ]
    },
    {
     "name": "stdout",
     "output_type": "stream",
     "text": [
      "Processing profile 64 of 70\n"
     ]
    },
    {
     "name": "stderr",
     "output_type": "stream",
     "text": [
      "100%|██████████| 10000/10000 [00:04<00:00, 2088.19it/s]\n",
      "100%|██████████| 10000/10000 [00:06<00:00, 1466.48it/s]\n",
      "100%|██████████| 10000/10000 [00:07<00:00, 1312.39it/s]\n"
     ]
    },
    {
     "name": "stdout",
     "output_type": "stream",
     "text": [
      "Processing profile 65 of 70\n"
     ]
    },
    {
     "name": "stderr",
     "output_type": "stream",
     "text": [
      "100%|██████████| 10000/10000 [00:05<00:00, 1894.77it/s]\n",
      "100%|██████████| 10000/10000 [00:07<00:00, 1380.51it/s]\n",
      "100%|██████████| 10000/10000 [00:07<00:00, 1283.58it/s]\n"
     ]
    },
    {
     "name": "stdout",
     "output_type": "stream",
     "text": [
      "Processing profile 66 of 70\n"
     ]
    },
    {
     "name": "stderr",
     "output_type": "stream",
     "text": [
      "100%|██████████| 10000/10000 [00:04<00:00, 2024.72it/s]\n",
      "100%|██████████| 10000/10000 [00:06<00:00, 1488.76it/s]\n",
      "100%|██████████| 10000/10000 [00:07<00:00, 1256.00it/s]\n"
     ]
    },
    {
     "name": "stdout",
     "output_type": "stream",
     "text": [
      "Processing profile 67 of 70\n"
     ]
    },
    {
     "name": "stderr",
     "output_type": "stream",
     "text": [
      "100%|██████████| 10000/10000 [00:05<00:00, 1919.74it/s]\n",
      "100%|██████████| 10000/10000 [00:06<00:00, 1444.72it/s]\n",
      "100%|██████████| 10000/10000 [00:07<00:00, 1287.21it/s]\n"
     ]
    },
    {
     "name": "stdout",
     "output_type": "stream",
     "text": [
      "Processing profile 68 of 70\n"
     ]
    },
    {
     "name": "stderr",
     "output_type": "stream",
     "text": [
      "100%|██████████| 10000/10000 [00:05<00:00, 1895.70it/s]\n",
      "100%|██████████| 10000/10000 [00:06<00:00, 1509.50it/s]\n",
      "100%|██████████| 10000/10000 [00:08<00:00, 1200.22it/s]\n"
     ]
    },
    {
     "name": "stdout",
     "output_type": "stream",
     "text": [
      "Processing profile 69 of 70\n"
     ]
    },
    {
     "name": "stderr",
     "output_type": "stream",
     "text": [
      "100%|██████████| 10000/10000 [00:05<00:00, 1887.32it/s]\n",
      "100%|██████████| 10000/10000 [00:06<00:00, 1550.50it/s]\n",
      "100%|██████████| 10000/10000 [00:07<00:00, 1327.78it/s]\n"
     ]
    },
    {
     "name": "stdout",
     "output_type": "stream",
     "text": [
      "Processing profile 70 of 70\n"
     ]
    },
    {
     "name": "stderr",
     "output_type": "stream",
     "text": [
      "100%|██████████| 10000/10000 [00:05<00:00, 1928.52it/s]\n",
      "100%|██████████| 10000/10000 [00:06<00:00, 1534.49it/s]\n",
      "100%|██████████| 10000/10000 [00:07<00:00, 1342.84it/s]\n"
     ]
    }
   ],
   "source": [
    "for i in range(start, end):\n",
    "    img = (np.load(\"../profiles/dens_test.npy\"))[i]\n",
    "    print(f\"Processing profile {i + 1} of {end - start + 1}\")\n",
    "\n",
    "    ny, nx = img.shape\n",
    "    x = np.linspace(-3, 3, nx)\n",
    "    y = np.linspace(-3, 3, ny)\n",
    "    xx, yy = np.meshgrid(x, y)\n",
    "    theta_i = np.linspace(-np.pi, np.pi, 360)\n",
    "    rr, tt = np.meshgrid(r, theta_i)\n",
    "    xi = rr * np.cos(tt)\n",
    "    yi = rr * np.sin(tt)\n",
    "    points = np.vstack((xx.flatten(), yy.flatten())).T\n",
    "    values = img.flatten()\n",
    "    grid_intensity = griddata(points, values, (xi, yi), fill_value=0)\n",
    "\n",
    "    simulation_profile = np.mean(grid_intensity, axis=0)\n",
    "    simulation_error = np.std(grid_intensity, axis=0)\n",
    "    simulation_error[simulation_error < 1e-8] = 1e-8\n",
    "\n",
    "    for name, model_func in models.items():\n",
    "        args = (r, simulation_profile, simulation_error, model_func)\n",
    "        sampler = emcee.EnsembleSampler(nwalkers, ndim, log_probability, args=args)\n",
    "        sampler.run_mcmc(initial_position, steps, progress=True)\n",
    "        flat_samples = sampler.get_chain(discard=steps_discarded, thin=20, flat=True)\n",
    "        theta_best = np.median(flat_samples, axis=0)\n",
    "        score = compute_fit_score(r, simulation_profile, simulation_error, theta_best, model_func)\n",
    "        model_scores[name].append(score)"
   ]
  },
  {
   "cell_type": "code",
   "execution_count": 7,
   "id": "5339697e",
   "metadata": {},
   "outputs": [
    {
     "data": {
      "image/png": "[encoded data removed]",
      "text/plain": [
       "<Figure size 600x400 with 1 Axes>"
      ]
     },
     "metadata": {},
     "output_type": "display_data"
    },
    {
     "data": {
      "image/png": "[encoded data removed]",
      "text/plain": [
       "<Figure size 600x400 with 1 Axes>"
      ]
     },
     "metadata": {},
     "output_type": "display_data"
    },
    {
     "data": {
      "image/png": "[encoded data removed]",
      "text/plain": [
       "<Figure size 600x400 with 1 Axes>"
      ]
     },
     "metadata": {},
     "output_type": "display_data"
    },
    {
     "data": {
      "image/png": "[encoded data removed]",
      "text/plain": [
       "<Figure size 600x400 with 1 Axes>"
      ]
     },
     "metadata": {},
     "output_type": "display_data"
    }
   ],
   "source": [
    "# Set figure size and style\n",
    "plt.style.use(\"ggplot\")\n",
    "\n",
    "# Individual histograms\n",
    "for model_name in models:\n",
    "    plt.figure(figsize=(6, 4))\n",
    "    plt.hist(model_scores[model_name], bins=20, range=(0, 1),\n",
    "             color=\"steelblue\", edgecolor=\"black\", alpha=0.8)\n",
    "    plt.title(f\"Histogram of Fit Scores: {model_name}\")\n",
    "    plt.xlabel(\"Fit Score\")\n",
    "    plt.ylabel(\"Count\")\n",
    "    plt.xlim(0, 1)\n",
    "    plt.grid(True)\n",
    "    plt.tight_layout()\n",
    "    plt.show()\n",
    "\n",
    "# Overlay plot\n",
    "plt.figure(figsize=(6, 4))\n",
    "for model_name in models:\n",
    "    plt.hist(model_scores[model_name], bins=20, range=(0, 1),\n",
    "             alpha=0.5, label=model_name, edgecolor=\"black\")\n",
    "plt.title(\"Overlay of Fit Score Distributions\")\n",
    "plt.xlabel(\"Fit Score\")\n",
    "plt.ylabel(\"Count\")\n",
    "plt.xlim(0, 1)\n",
    "plt.legend()\n",
    "plt.grid(True)\n",
    "plt.tight_layout()\n",
    "plt.show()\n"
   ]
  }
 ],
 "metadata": {
  "kernelspec": {
   "display_name": ".venv (3.13.5)",
   "language": "python",
   "name": "python3"
  },
  "language_info": {
   "codemirror_mode": {
    "name": "ipython",
    "version": 3
   },
   "file_extension": ".py",
   "mimetype": "text/x-python",
   "name": "python",
   "nbconvert_exporter": "python",
   "pygments_lexer": "ipython3",
   "version": "3.13.5"
  }
 },
 "nbformat": 4,
 "nbformat_minor": 5
}
